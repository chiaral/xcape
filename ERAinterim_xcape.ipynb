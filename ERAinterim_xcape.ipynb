{
 "cells": [
  {
   "cell_type": "code",
   "execution_count": 1,
   "metadata": {},
   "outputs": [],
   "source": [
    "from timeit import default_timer as timer\n",
    "import xarray as xr\n",
    "from matplotlib import pyplot as plt\n",
    "%matplotlib inline\n",
    "import matplotlib as mpl\n"
   ]
  },
  {
   "cell_type": "code",
   "execution_count": 2,
   "metadata": {},
   "outputs": [
    {
     "data": {
      "text/plain": [
       "<xarray.Dataset>\n",
       "Dimensions:    (latitude: 33, level: 41, longitude: 94, time: 10)\n",
       "Coordinates:\n",
       "  * level      (level) int64 61 60 59 58 57 56 55 54 ... 28 27 26 25 24 23 22 21\n",
       "  * longitude  (longitude) float32 230.25 231.0 231.75 ... 298.5 299.25 300.0\n",
       "  * latitude   (latitude) float32 49.5 48.75 48.0 47.25 ... 27.0 26.25 25.5\n",
       "  * time       (time) datetime64[ns] 2013-05-13T12:00:00 ... 2013-05-15T18:00:00\n",
       "Data variables:\n",
       "    t          (level, time, latitude, longitude) float32 ...\n",
       "    q          (level, time, latitude, longitude) float32 ...\n",
       "    u          (level, time, latitude, longitude) float32 ...\n",
       "    v          (level, time, latitude, longitude) float32 ...\n",
       "    p          (level, time, latitude, longitude) float64 ...\n",
       "    td         (level, time, latitude, longitude) float64 ...\n",
       "    H_xr3d     (level, time, latitude, longitude) float64 ...\n",
       "    AGLH_xr3d  (level, time, latitude, longitude) float64 ..."
      ]
     },
     "execution_count": 2,
     "metadata": {},
     "output_type": "execute_result"
    }
   ],
   "source": [
    "ds = xr.open_dataset('../subsampleERAinterim.nc')\n",
    "ds"
   ]
  },
  {
   "cell_type": "code",
   "execution_count": 11,
   "metadata": {},
   "outputs": [
    {
     "data": {
      "text/plain": [
       "(array([2.0000e+00, 2.6182e+04, 1.2543e+04, 9.1970e+03, 9.9840e+03,\n",
       "        1.1714e+04, 1.2709e+04, 3.3564e+04, 3.0412e+04, 8.6710e+03]),\n",
       " array([-99.2224501 , -87.13825746, -75.05406482, -62.96987217,\n",
       "        -50.88567953, -38.80148689, -26.71729425, -14.63310161,\n",
       "         -2.54890897,   9.53528368,  21.61947632]),\n",
       " <a list of 10 Patch objects>)"
      ]
     },
     "execution_count": 11,
     "metadata": {},
     "output_type": "execute_result"
    },
    {
     "data": {
      "image/png": "[encoded data removed]",
      "text/plain": [
       "<Figure size 432x288 with 1 Axes>"
      ]
     },
     "metadata": {
      "needs_background": "light"
     },
     "output_type": "display_data"
    }
   ],
   "source": [
    "(ds.td).plot()"
   ]
  },
  {
   "cell_type": "code",
   "execution_count": 5,
   "metadata": {},
   "outputs": [],
   "source": [
    "ds = ds.sel(latitude=slice(40,30),longitude=slice(250,270))"
   ]
  },
  {
   "cell_type": "code",
   "execution_count": 6,
   "metadata": {},
   "outputs": [],
   "source": [
    "from xcape import core\n",
    "from importlib import reload\n",
    "core = reload(core)"
   ]
  },
  {
   "cell_type": "code",
   "execution_count": 7,
   "metadata": {},
   "outputs": [
    {
     "name": "stdout",
     "output_type": "stream",
     "text": [
      "(41, 3780)\n"
     ]
    }
   ],
   "source": [
    "from xcape import ALLCAPELOOP\n",
    "Pflat, Tflat, Tdflat = core._reshape_inputs(ds.p.values, ds.t.values-273.15, ds.td.values)\n",
    "\n",
    "original_shape = ds.p.values.shape\n",
    "    \n",
    "source=1 #'surface', \n",
    "ml_depth=500., \n",
    "adiabat=1 #'pseudo-liquid',\n",
    "pinc=1000.\n",
    "    \n",
    "BCAPE_SBa, BCIN_SBa, _, _ = ALLCAPELOOP.loopcape(\n",
    "    Pflat,Tflat,Tdflat,\n",
    "    pinc, source, ml_depth, adiabat,\n",
    "    ds.level.shape[0],ds.time.shape[0]*ds.longitude.shape[0]*ds.latitude.shape[0])\n",
    "\n",
    "ca_out,ci_out = core._reshape_outputs(BCAPE_SBa, BCIN_SBa, shape=original_shape)\n"
   ]
  },
  {
   "cell_type": "code",
   "execution_count": 8,
   "metadata": {},
   "outputs": [
    {
     "data": {
      "text/plain": [
       "<matplotlib.colorbar.Colorbar at 0x7fd2e50fa978>"
      ]
     },
     "execution_count": 8,
     "metadata": {},
     "output_type": "execute_result"
    },
    {
     "data": {
      "image/png": "[encoded data removed]",
      "text/plain": [
       "<Figure size 432x288 with 2 Axes>"
      ]
     },
     "metadata": {
      "needs_background": "light"
     },
     "output_type": "display_data"
    }
   ],
   "source": [
    "plt.imshow(ca_out[0,5])\n",
    "plt.colorbar()"
   ]
  },
  {
   "cell_type": "code",
   "execution_count": 14,
   "metadata": {},
   "outputs": [
    {
     "name": "stdout",
     "output_type": "stream",
     "text": [
      "(41, 10, 14, 27)\n",
      "(41, 3780)\n",
      "[nan nan nan ... nan nan nan]\n"
     ]
    }
   ],
   "source": [
    "\n",
    "ca,ci,mu,zm = core.calc_cape(ds.p.values, ds.t.values-273.15, ds.td.values, \n",
    "                             source='mixed-layer', ml_depth=500., adiabat='pseudo-liquid',\n",
    "                             pinc=1000., method='fortran')"
   ]
  },
  {
   "cell_type": "code",
   "execution_count": 15,
   "metadata": {},
   "outputs": [
    {
     "data": {
      "text/plain": [
       "<matplotlib.colorbar.Colorbar at 0x7fd28cbde470>"
      ]
     },
     "execution_count": 15,
     "metadata": {},
     "output_type": "execute_result"
    },
    {
     "data": {
      "image/png": "[encoded data removed]",
      "text/plain": [
       "<Figure size 432x288 with 2 Axes>"
      ]
     },
     "metadata": {
      "needs_background": "light"
     },
     "output_type": "display_data"
    }
   ],
   "source": [
    "plt.imshow(ca[0,5])\n",
    "plt.colorbar()"
   ]
  },
  {
   "cell_type": "code",
   "execution_count": 12,
   "metadata": {},
   "outputs": [],
   "source": [
    "# OLD ROUTINES\n",
    "# from xcape import SBCAPELOOP, MLCAPELOOP, MLCAPE100LOOP, MUCAPELOOP\n",
    "    \n",
    "\n",
    "# start = timer()\n",
    "# BCAPE_SB, BCIN_SB = SBCAPELOOP.loopcape(ds.p.values.reshape(ds.level.shape[0],ds.time.shape[0]*ds.longitude.shape[0]*ds.latitude.shape[0]),\n",
    "#  ds.t.values.reshape(ds.level.shape[0],ds.time.shape[0]*ds.longitude.shape[0]*ds.latitude.shape[0]),\n",
    "#  ds.td.values.reshape(ds.level.shape[0],ds.time.shape[0]*ds.longitude.shape[0]*ds.latitude.shape[0]),\n",
    "#  ds.level.shape[0],ds.time.shape[0]*ds.longitude.shape[0]*ds.latitude.shape[0])\n",
    "# # print(BCAPE_SB, BCIN_SB)\n",
    "# BCAPE_ML, BCIN_ML = MLCAPELOOP.loopcape(ds.p.values.reshape(ds.level.shape[0],ds.time.shape[0]*ds.longitude.shape[0]*ds.latitude.shape[0]),\n",
    "#  ds.t.values.reshape(ds.level.shape[0],ds.time.shape[0]*ds.longitude.shape[0]*ds.latitude.shape[0]),\n",
    "#  ds.td.values.reshape(ds.level.shape[0],ds.time.shape[0]*ds.longitude.shape[0]*ds.latitude.shape[0]),\n",
    "#  ds.level.shape[0],ds.time.shape[0]*ds.longitude.shape[0]*ds.latitude.shape[0])\n",
    "# # print(BCAPE_SB, BCIN_SB)\n",
    "# BCAPE_ML100, BCIN_ML100 = MLCAPE100LOOP.loopcape(ds.p.values.reshape(ds.level.shape[0],ds.time.shape[0]*ds.longitude.shape[0]*ds.latitude.shape[0]),\n",
    "#  ds.t.values.reshape(ds.level.shape[0],ds.time.shape[0]*ds.longitude.shape[0]*ds.latitude.shape[0]),\n",
    "#  ds.td.values.reshape(ds.level.shape[0],ds.time.shape[0]*ds.longitude.shape[0]*ds.latitude.shape[0]),\n",
    "#  ds.level.shape[0],ds.time.shape[0]*ds.longitude.shape[0]*ds.latitude.shape[0])\n",
    "# # print(BCAPE_SB, BCIN_SB)\n",
    "# BCAPE_MU, BCIN_MU, mulv, zmu = MUCAPELOOP.loopcape(ds.p.values.reshape(ds.level.shape[0],ds.time.shape[0]*ds.longitude.shape[0]*ds.latitude.shape[0]),\n",
    "#  ds.t.values.reshape(ds.level.shape[0],ds.time.shape[0]*ds.longitude.shape[0]*ds.latitude.shape[0]),\n",
    "#  ds.td.values.reshape(ds.level.shape[0],ds.time.shape[0]*ds.longitude.shape[0]*ds.latitude.shape[0]),\n",
    "#  ds.level.shape[0],ds.time.shape[0]*ds.longitude.shape[0]*ds.latitude.shape[0])\n",
    "# # print(BCAPE_SB, BCIN_SB)\n",
    "\n",
    "# end = timer()\n",
    "# print('loop in fortran ',end-start)\n"
   ]
  },
  {
   "cell_type": "code",
   "execution_count": 13,
   "metadata": {},
   "outputs": [
    {
     "name": "stdout",
     "output_type": "stream",
     "text": [
      "loop ALLLOOP  722.8084989571944\n"
     ]
    }
   ],
   "source": [
    "start = timer()\n",
    "Pflat=    ds.p.values.reshape(ds.level.shape[0],ds.time.shape[0]*ds.longitude.shape[0]*ds.latitude.shape[0])\n",
    "Tflat=    ds.t.values.reshape(ds.level.shape[0],ds.time.shape[0]*ds.longitude.shape[0]*ds.latitude.shape[0])\n",
    "Tdflat=    ds.td.values.reshape(ds.level.shape[0],ds.time.shape[0]*ds.longitude.shape[0]*ds.latitude.shape[0])\n",
    "\n",
    "pinc=1000.\n",
    "source=1 # surface\n",
    "ml_depth=500.\n",
    "adiabat=1\n",
    "\n",
    "BCAPE_SBa, BCIN_SBa, _, _ = ALLCAPELOOP.loopcape(\n",
    "    Pflat,Tflat,Tdflat,\n",
    "    pinc, source, ml_depth, adiabat,\n",
    "    ds.level.shape[0],ds.time.shape[0]*ds.longitude.shape[0]*ds.latitude.shape[0])\n",
    "\n",
    "pinc=1000.\n",
    "source=3 # mixed layer: uses ml_depth\n",
    "ml_depth=500.\n",
    "adiabat=1\n",
    "\n",
    "BCAPE_MLa, BCIN_MLa, _, _ = ALLCAPELOOP.loopcape(\n",
    "    Pflat,Tflat,Tdflat,\n",
    "pinc, source, ml_depth, adiabat,\n",
    " ds.level.shape[0],ds.time.shape[0]*ds.longitude.shape[0]*ds.latitude.shape[0])\n",
    "\n",
    "pinc=1000.\n",
    "source=2 # maximum unstable: uses ml_depth\n",
    "ml_depth=500.\n",
    "adiabat=1\n",
    "\n",
    "BCAPE_MUa, BCIN_MUa, Mulev, zMUlev  = ALLCAPELOOP.loopcape(\n",
    "    Pflat,Tflat,Tdflat,\n",
    "pinc, source, ml_depth, adiabat,\n",
    " ds.level.shape[0],ds.time.shape[0]*ds.longitude.shape[0]*ds.latitude.shape[0])\n",
    "\n",
    "\n",
    "end = timer()\n",
    "print('loop ALLLOOP ',end-start)\n"
   ]
  },
  {
   "cell_type": "code",
   "execution_count": 14,
   "metadata": {},
   "outputs": [],
   "source": [
    "ds['sbcape'] = (('time','latitude','longitude'), \n",
    "                BCAPE_SBa.reshape(ds.time.shape[0],ds.latitude.shape[0],ds.longitude.shape[0]))\n",
    "ds['mlcape'] = (('time','latitude','longitude'), \n",
    "                BCAPE_MLa.reshape(ds.time.shape[0],ds.latitude.shape[0],ds.longitude.shape[0]))\n",
    "ds['mucape'] = (('time','latitude','longitude'), \n",
    "                BCAPE_MUa.reshape(ds.time.shape[0],ds.latitude.shape[0],ds.longitude.shape[0]))\n"
   ]
  },
  {
   "cell_type": "code",
   "execution_count": 15,
   "metadata": {},
   "outputs": [
    {
     "name": "stdout",
     "output_type": "stream",
     "text": [
      "loop fortran flat  10.58640465606004\n"
     ]
    }
   ],
   "source": [
    "\n",
    "\n",
    "start = timer()\n",
    "\n",
    "rm_sup,lm_sup,meanwind_6km = Bunkers_loop.bunkers_loop(ds.u.values.reshape(ds.level.shape[0],\n",
    "                                                                         ds.time.shape[0]*ds.longitude.shape[0]*ds.latitude.shape[0]),\n",
    "                                                     ds.v.values.reshape(ds.level.shape[0],\n",
    "                                                                         ds.time.shape[0]*ds.longitude.shape[0]*ds.latitude.shape[0]),\n",
    "                                                     ds.AGLH_xr3d.values.reshape(ds.level.shape[0],\n",
    "                                                                         ds.time.shape[0]*ds.longitude.shape[0]*ds.latitude.shape[0])\n",
    "                                                    )\n",
    "\n",
    "# levels need to be inverted:\n",
    "# i.e. - AGLHin = AGLH[::-1,:,:]\n",
    "srh3kmb = srhBULOOP.dcalrelhl(ds.u.isel(level=slice(None, None, -1)).values.reshape(ds.level.shape[0],\n",
    "                                                 ds.time.shape[0]*ds.longitude.shape[0]*ds.latitude.shape[0]),\n",
    "                             ds.v.isel(level=slice(None, None, -1)).values.reshape(ds.level.shape[0],\n",
    "                                                 ds.time.shape[0]*ds.longitude.shape[0]*ds.latitude.shape[0]),\n",
    "                             ds.AGLH_xr3d.isel(level=slice(None, None, -1)).values.reshape(ds.level.shape[0],\n",
    "                                                 ds.time.shape[0]*ds.longitude.shape[0]*ds.latitude.shape[0]),\n",
    "                          rm_sup[0,:],\n",
    "                          rm_sup[1,:],3000.)\n",
    "end = timer()\n",
    "print('loop fortran flat ',end-start)\n"
   ]
  },
  {
   "cell_type": "code",
   "execution_count": 16,
   "metadata": {},
   "outputs": [],
   "source": [
    "ds['srh3kmb'] = (('time','latitude','longitude'), \n",
    "                srh3kmb.reshape(ds.time.shape[0],ds.latitude.shape[0],ds.longitude.shape[0]))"
   ]
  },
  {
   "cell_type": "code",
   "execution_count": 19,
   "metadata": {},
   "outputs": [],
   "source": []
  },
  {
   "cell_type": "code",
   "execution_count": 20,
   "metadata": {},
   "outputs": [
    {
     "ename": "TypeError",
     "evalue": "cape() missing 2 required positional arguments: 'nlev' and 'ngrid'",
     "output_type": "error",
     "traceback": [
      "\u001b[0;31m---------------------------------------------------------------------------\u001b[0m",
      "\u001b[0;31mTypeError\u001b[0m                                 Traceback (most recent call last)",
      "\u001b[0;32m<ipython-input-20-55a3fc37661d>\u001b[0m in \u001b[0;36m<module>\u001b[0;34m\u001b[0m\n\u001b[1;32m      1\u001b[0m core.calc_cape(Pflat, Tflat, Tdflat, source='surface', ml_depth=500., adiabat='pseudo-liquid',\n\u001b[0;32m----> 2\u001b[0;31m          pinc=1000., method='fortran')\n\u001b[0m",
      "\u001b[0;32m/local/xcape/xcape/core.py\u001b[0m in \u001b[0;36mcalc_cape\u001b[0;34m(p, t, td, source, ml_depth, adiabat, pinc, method)\u001b[0m\n\u001b[1;32m     80\u001b[0m \u001b[0;34m\u001b[0m\u001b[0m\n\u001b[1;32m     81\u001b[0m     \u001b[0;32mif\u001b[0m \u001b[0mmethod\u001b[0m \u001b[0;34m==\u001b[0m \u001b[0;34m'fortran'\u001b[0m\u001b[0;34m:\u001b[0m\u001b[0;34m\u001b[0m\u001b[0;34m\u001b[0m\u001b[0m\n\u001b[0;32m---> 82\u001b[0;31m         \u001b[0mcape_2d\u001b[0m\u001b[0;34m,\u001b[0m \u001b[0mcin_2d\u001b[0m \u001b[0;34m=\u001b[0m \u001b[0m_cape_fortran\u001b[0m\u001b[0;34m(\u001b[0m\u001b[0mp_2d\u001b[0m\u001b[0;34m,\u001b[0m \u001b[0mt_2d\u001b[0m\u001b[0;34m,\u001b[0m \u001b[0mtd_2d\u001b[0m\u001b[0;34m,\u001b[0m \u001b[0;34m**\u001b[0m\u001b[0mkwargs\u001b[0m\u001b[0;34m)\u001b[0m\u001b[0;34m\u001b[0m\u001b[0;34m\u001b[0m\u001b[0m\n\u001b[0m\u001b[1;32m     83\u001b[0m     \u001b[0;32melif\u001b[0m \u001b[0mmethod\u001b[0m \u001b[0;34m==\u001b[0m \u001b[0;34m'numba'\u001b[0m\u001b[0;34m:\u001b[0m\u001b[0;34m\u001b[0m\u001b[0;34m\u001b[0m\u001b[0m\n\u001b[1;32m     84\u001b[0m         \u001b[0mcape_2d\u001b[0m\u001b[0;34m,\u001b[0m \u001b[0mcin_2d\u001b[0m \u001b[0;34m=\u001b[0m \u001b[0m_cape_numba\u001b[0m\u001b[0;34m(\u001b[0m\u001b[0mp_2d\u001b[0m\u001b[0;34m,\u001b[0m \u001b[0mt_2d\u001b[0m\u001b[0;34m,\u001b[0m \u001b[0mtd_2d\u001b[0m\u001b[0;34m,\u001b[0m \u001b[0;34m**\u001b[0m\u001b[0mkwargs\u001b[0m\u001b[0;34m)\u001b[0m\u001b[0;34m\u001b[0m\u001b[0;34m\u001b[0m\u001b[0m\n",
      "\u001b[0;31mTypeError\u001b[0m: cape() missing 2 required positional arguments: 'nlev' and 'ngrid'"
     ]
    }
   ],
   "source": []
  },
  {
   "cell_type": "code",
   "execution_count": null,
   "metadata": {},
   "outputs": [],
   "source": []
  }
 ],
 "metadata": {
  "kernelspec": {
   "display_name": "Python 3",
   "language": "python",
   "name": "python3"
  },
  "language_info": {
   "codemirror_mode": {
    "name": "ipython",
    "version": 3
   },
   "file_extension": ".py",
   "mimetype": "text/x-python",
   "name": "python",
   "nbconvert_exporter": "python",
   "pygments_lexer": "ipython3",
   "version": "3.6.7"
  }
 },
 "nbformat": 4,
 "nbformat_minor": 2
}
